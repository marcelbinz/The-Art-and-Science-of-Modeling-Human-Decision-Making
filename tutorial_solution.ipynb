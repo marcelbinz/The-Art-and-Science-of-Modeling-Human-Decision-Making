{
 "cells": [
  {
   "cell_type": "markdown",
   "metadata": {},
   "source": [
    "# The Art and Science of Modeling Human Decision-Making \n",
    "\n",
    "**Abstract:** Computational models are immensely useful for improving our understanding of the human mind, but working with such models can also be daunting. The goal of this tutorial is to familiarize you with a general set of tools that allow you to harvest the power of computational modeling in your own research projects. In the first part, I will demonstrate how to turn verbal theories into computational models on an example decision-making problem. The second part then covers how these models can be used to draw inferences about human decision-making processes. Part of the session will be interactive, so be sure to have a working version of Python together with the NumPy library installed."
   ]
  },
  {
   "cell_type": "code",
   "execution_count": 1,
   "metadata": {},
   "outputs": [],
   "source": [
    "import math\n",
    "import numpy as np\n",
    "import scipy.stats as stats\n",
    "import matplotlib.pyplot as plt\n",
    "import matplotlib as mpl"
   ]
  },
  {
   "cell_type": "code",
   "execution_count": 2,
   "metadata": {},
   "outputs": [],
   "source": [
    "class TwoArmedGaussianBandit:\n",
    "    def __init__(self, mean_var, reward_var):\n",
    "        self.reward_var = reward_var\n",
    "        \n",
    "        # sample mean rewards\n",
    "        self.mean = np.random.normal(loc=0, scale=math.sqrt(mean_var), size=(2,))\n",
    "    \n",
    "    def sample_reward(self, action):\n",
    "        \"\"\"\n",
    "        Args:\n",
    "            action (int): the selected action.\n",
    "\n",
    "        Returns:\n",
    "            float: the recevied reward.\n",
    "        \"\"\"\n",
    "\n",
    "        reward = np.random.normal(self.mean[action], math.sqrt(self.reward_var))\n",
    "        return reward"
   ]
  },
  {
   "cell_type": "markdown",
   "metadata": {},
   "source": [
    "## Exercise 1: Implement the Bayesian updating equation"
   ]
  },
  {
   "cell_type": "markdown",
   "metadata": {},
   "source": [
    "We assume normally-distributed priors and likelihoods. In this case, the posterior will also be normally-distributed and the updating equations are defined as follows:\n",
    "\n",
    "$$ \\alpha_t = \\dfrac{s_{a_t}^2}{s_{a_t}^2 + \\sigma^2}$$\n",
    "\n",
    "$$(m_a, s_a^2)= \n",
    "\\begin{cases}\n",
    "    (m_a, s_a^2) & \\text{if } a_t \\neq a\\\\\n",
    "    (m_a + \\alpha_t (r_t - m_a), s_a^2 - \\alpha_t s_a^2)              & \\text{if } a_t = a\n",
    "\\end{cases}$$\n",
    "\n",
    "We furthermore assume that $\\sigma^2 = 10$ and initialize $m_a = 0$ and $s_a^2=100$ for our analyses."
   ]
  },
  {
   "cell_type": "code",
   "execution_count": 3,
   "metadata": {},
   "outputs": [],
   "source": [
    "class BayesianLearner:\n",
    "    def __init__(self, mean_var, reward_var, num_actions):\n",
    "        self.prior_mean = np.zeros(num_actions)\n",
    "        self.prior_var = mean_var * np.ones(num_actions)\n",
    "        self.reward_var = reward_var\n",
    "        \n",
    "    def update(self, action, reward):\n",
    "        \"\"\"\n",
    "        Args:\n",
    "            action (int): the selected action.\n",
    "            reward (float): the observed reward.\n",
    "        \"\"\"\n",
    "        alpha = self.prior_var[action] / (self.prior_var[action] + self.reward_var)\n",
    "        self.prior_mean[action] = self.prior_mean[action] + alpha * (reward - self.prior_mean[action])\n",
    "        self.prior_var[action] =  self.prior_var[action] - alpha * self.prior_var[action]"
   ]
  },
  {
   "cell_type": "code",
   "execution_count": 4,
   "metadata": {},
   "outputs": [
    {
     "data": {
      "image/png": "[encoded data removed]",
      "text/plain": [
       "<Figure size 432x288 with 1 Axes>"
      ]
     },
     "metadata": {
      "needs_background": "light"
     },
     "output_type": "display_data"
    }
   ],
   "source": [
    "# initialize bandit environment\n",
    "bandit = TwoArmedGaussianBandit(mean_var=100, reward_var=10)\n",
    "\n",
    "# initialize agent\n",
    "agent = BayesianLearner(mean_var=100, reward_var=10, num_actions=2)\n",
    "\n",
    "# artifically set the means to 2 and 4 respectively. \n",
    "bandit.mean = np.array([2, 4])\n",
    "\n",
    "time_steps = 200\n",
    "mean = np.zeros((time_steps, 2))\n",
    "\n",
    "for t in range(time_steps):\n",
    "    # store agent's believes\n",
    "    mean[t] = agent.prior_mean\n",
    "    \n",
    "    # sample a random choice\n",
    "    action = np.random.choice([0, 1])\n",
    "    \n",
    "    # simulate rewards\n",
    "    reward = bandit.sample_reward(action)   \n",
    "    \n",
    "    # update agent's believes\n",
    "    agent.update(action, reward)\n",
    "\n",
    "# plot the results\n",
    "plt.plot(mean)\n",
    "plt.axhline(y=bandit.mean[0], color='C0', ls='--')\n",
    "plt.axhline(y=bandit.mean[1], color='C1', ls='--')\n",
    "plt.legend([r'$\\mu_0$', r'$\\mu_1$'], frameon=False, bbox_to_anchor=(0.3, 1.02, 1, 0.2), loc=\"lower left\",\n",
    "               borderaxespad=0, ncol=2)\n",
    "plt.xlim(0, time_steps-1)\n",
    "plt.show()"
   ]
  },
  {
   "cell_type": "markdown",
   "metadata": {},
   "source": [
    "## Exercise 2: Implement the exploitation strategy"
   ]
  },
  {
   "cell_type": "markdown",
   "metadata": {},
   "source": [
    "Pure exploitation picks the action with highest expected reward:\n",
    "\n",
    "$$a_t = \\text{arg}\\max_{a \\in \\mathcal{A}} m_a$$"
   ]
  },
  {
   "cell_type": "code",
   "execution_count": 5,
   "metadata": {},
   "outputs": [],
   "source": [
    "class BayesianLearner:\n",
    "    def __init__(self, mean_var, reward_var, num_actions):\n",
    "        self.prior_mean = np.zeros(num_actions)\n",
    "        self.prior_var = mean_var * np.ones(num_actions)\n",
    "        self.reward_var = reward_var\n",
    "        \n",
    "    def update(self, action, reward):\n",
    "        \"\"\"\n",
    "        Args:\n",
    "            action (int): the selected action.\n",
    "            reward (float): the observed reward.\n",
    "        \"\"\"\n",
    "        alpha = self.prior_var[action] / (self.prior_var[action] + self.reward_var)\n",
    "        self.prior_mean[action] = self.prior_mean[action] + alpha * (reward - self.prior_mean[action])\n",
    "        self.prior_var[action] =  self.prior_var[action] - alpha * self.prior_var[action]\n",
    "\n",
    "class PureExploitation(BayesianLearner):\n",
    "    def __init__(self, mean_var, reward_var, num_actions):\n",
    "        super().__init__(mean_var, reward_var, num_actions)\n",
    "        \n",
    "    def act(self):\n",
    "        \"\"\"\n",
    "        Returns:\n",
    "            int: the selected action.\n",
    "        \"\"\"\n",
    "        return np.argmax(self.prior_mean)"
   ]
  },
  {
   "cell_type": "code",
   "execution_count": 6,
   "metadata": {},
   "outputs": [
    {
     "data": {
      "image/png": "[encoded data removed]",
      "text/plain": [
       "<Figure size 432x288 with 1 Axes>"
      ]
     },
     "metadata": {
      "needs_background": "light"
     },
     "output_type": "display_data"
    }
   ],
   "source": [
    "# initialize bandit environment\n",
    "bandit = TwoArmedGaussianBandit(mean_var=100, reward_var=10)\n",
    "\n",
    "# initialize agent\n",
    "agent = PureExploitation(mean_var=100, reward_var=10, num_actions=2)\n",
    "\n",
    "# artifically set the means to 2 and 4 respectively. \n",
    "bandit.mean = np.array([2, 4])\n",
    "\n",
    "time_steps = 100\n",
    "mean = np.zeros((time_steps, 2))\n",
    "\n",
    "for t in range(time_steps):\n",
    "    # store agent's believes\n",
    "    mean[t] = agent.prior_mean\n",
    "    \n",
    "    # act according to the agent's strategy\n",
    "    action = agent.act()\n",
    "    \n",
    "    # simulate rewards\n",
    "    reward = bandit.sample_reward(action)   \n",
    "    \n",
    "    # update agent's believes\n",
    "    agent.update(action, reward)\n",
    "    \n",
    "# plot the results\n",
    "plt.plot(mean)\n",
    "plt.legend([r'$\\mu_0$', r'$\\mu_1$'], frameon=False, bbox_to_anchor=(0.3, 1.02, 1, 0.2), loc=\"lower left\",\n",
    "               borderaxespad=0, ncol=2)\n",
    "plt.axhline(y=bandit.mean[0], color='C0', ls='--')\n",
    "plt.axhline(y=bandit.mean[1], color='C1', ls='--')\n",
    "plt.xlim(0, time_steps-1)\n",
    "plt.show()"
   ]
  },
  {
   "cell_type": "markdown",
   "metadata": {},
   "source": [
    "## Exercise 3: Implement Boltzmann exploration"
   ]
  },
  {
   "cell_type": "markdown",
   "metadata": {},
   "source": [
    "Boltzmann exploration applies the sigmoid function to the scaled reward difference and samples from the resulting probability distribution:\n",
    "\n",
    "$$a_t \\sim p(A_t)$$\n",
    "\n",
    "$$p(A_t = 0) = \\sigma(w\\left(m_0 - m_1\\right))$$"
   ]
  },
  {
   "cell_type": "code",
   "execution_count": 7,
   "metadata": {},
   "outputs": [],
   "source": [
    "def sigmoid(x):\n",
    "    return 1/(1 + np.exp(-x))\n",
    "\n",
    "class BoltzmannExploration(BayesianLearner):\n",
    "    def __init__(self, mean_var, reward_var, num_actions, w=1):\n",
    "        super().__init__(mean_var, reward_var, num_actions)\n",
    "        self.w = w\n",
    "        \n",
    "    def act(self):\n",
    "        \"\"\"\n",
    "        Returns:\n",
    "            int: the selected action.\n",
    "        \"\"\"\n",
    "        p0 = sigmoid(self.w*(self.prior_mean[0] - self.prior_mean[1]))\n",
    "        return np.random.choice([0, 1], p=[p0, 1 - p0])"
   ]
  },
  {
   "cell_type": "code",
   "execution_count": 8,
   "metadata": {},
   "outputs": [
    {
     "data": {
      "image/png": "[encoded data removed]",
      "text/plain": [
       "<Figure size 432x288 with 1 Axes>"
      ]
     },
     "metadata": {
      "needs_background": "light"
     },
     "output_type": "display_data"
    }
   ],
   "source": [
    "# initialize bandit environment\n",
    "bandit = TwoArmedGaussianBandit(mean_var=100, reward_var=10)\n",
    "\n",
    "# initialize agent\n",
    "agent = BoltzmannExploration(mean_var=100, reward_var=10, num_actions=2)\n",
    "\n",
    "# artifically set the means to 2 and 4 respectively. \n",
    "bandit.mean = np.array([2, 4])\n",
    "\n",
    "time_steps = 100\n",
    "mean = np.zeros((time_steps, 2))\n",
    "\n",
    "for t in range(time_steps):\n",
    "    # store agent's believes\n",
    "    mean[t] = agent.prior_mean\n",
    "    \n",
    "    # act according to the agent's strategy\n",
    "    action = agent.act()\n",
    "    \n",
    "    # simulate rewards\n",
    "    reward = bandit.sample_reward(action)   \n",
    "    \n",
    "    # update agent's believes\n",
    "    agent.update(action, reward)\n",
    "    \n",
    "# plot the results\n",
    "plt.plot(mean)\n",
    "plt.legend([r'$\\mu_0$', r'$\\mu_1$'], frameon=False, bbox_to_anchor=(0.3, 1.02, 1, 0.2), loc=\"lower left\",\n",
    "               borderaxespad=0, ncol=2)\n",
    "plt.axhline(y=bandit.mean[0], color='C0', ls='--')\n",
    "plt.axhline(y=bandit.mean[1], color='C1', ls='--')\n",
    "plt.xlim(0, time_steps-1)\n",
    "plt.show()"
   ]
  },
  {
   "cell_type": "markdown",
   "metadata": {},
   "source": [
    "## Exercise 4: Implement the UCB strategy and Thompson sampling"
   ]
  },
  {
   "cell_type": "markdown",
   "metadata": {},
   "source": [
    "Thompson sampling samples actions relative to their probablity of being correct:\n",
    "\n",
    "$$ a_t \\sim p(A_t)$$\n",
    "\n",
    "$$ p(A_t = 0) = p(\\mu_0 > \\mu_1) = \\phi\\left(\\frac{m_0 - m_1}{\\sqrt{s_0^2 + s_1^2}}\\right)$$\n",
    "\n",
    "UCB uses the uncertainty in the posterior distribution to guide exploration:\n",
    "\n",
    "$$a_t = \\text{arg}\\max_{a \\in \\mathcal{A}} \\left[ m_a + w s_a \\right]$$"
   ]
  },
  {
   "cell_type": "code",
   "execution_count": 9,
   "metadata": {},
   "outputs": [],
   "source": [
    "from scipy.stats import norm\n",
    "\n",
    "class ThompsonSampling(BayesianLearner):\n",
    "    def __init__(self, mean_var, reward_var, num_actions):\n",
    "        super().__init__(mean_var, reward_var, num_actions)\n",
    "        \n",
    "    def act(self):\n",
    "        \"\"\"\n",
    "        Returns:\n",
    "            int: the selected action.\n",
    "        \"\"\"\n",
    "        p = norm.cdf((agent.prior_mean[0] - agent.prior_mean[1])/math.sqrt(agent.prior_var[0] + agent.prior_var[1]))\n",
    "        return np.random.choice([0, 1], p=[p, 1 - p])\n",
    "\n",
    "class UCB(BayesianLearner):\n",
    "    def __init__(self, mean_var, reward_var, num_actions, w=1):\n",
    "        super().__init__(mean_var, reward_var, num_actions)\n",
    "        self.w = w\n",
    "        \n",
    "    def act(self):\n",
    "        \"\"\"\n",
    "        Returns:\n",
    "            int: the selected action.\n",
    "        \"\"\"\n",
    "        return np.argmax(agent.prior_mean + self.w * np.sqrt(agent.prior_var))"
   ]
  },
  {
   "cell_type": "code",
   "execution_count": 10,
   "metadata": {},
   "outputs": [],
   "source": [
    "# list of agents\n",
    "agents = [PureExploitation, BoltzmannExploration, ThompsonSampling, UCB]\n",
    "\n",
    "num_runs = 1000\n",
    "time_steps = 100\n",
    "regrets = np.zeros((len(agents), num_runs, time_steps))\n",
    "\n",
    "for num_agent, agent_class in enumerate(agents):\n",
    "    for run in range(num_runs):\n",
    "        \n",
    "        # initialize bandit environment\n",
    "        bandit = TwoArmedGaussianBandit(mean_var=100, reward_var=10)\n",
    "        \n",
    "        # initialize agent\n",
    "        agent = agent_class(mean_var=100, reward_var=10, num_actions=2)\n",
    "\n",
    "        for t in range(time_steps):\n",
    "            # act according to the agent's strategy\n",
    "            action = agent.act()\n",
    "            \n",
    "            # simulate rewards\n",
    "            reward = bandit.sample_reward(action)   \n",
    "            \n",
    "            # update agent's believes\n",
    "            agent.update(action, reward)\n",
    "            \n",
    "            # store performance\n",
    "            regrets[num_agent, run, t] = np.max(bandit.mean) - bandit.mean[action]"
   ]
  },
  {
   "cell_type": "code",
   "execution_count": 11,
   "metadata": {},
   "outputs": [
    {
     "data": {
      "text/plain": [
       "(-0.05, 2.0)"
      ]
     },
     "execution_count": 11,
     "metadata": {},
     "output_type": "execute_result"
    },
    {
     "data": {
      "image/png": "[encoded data removed]",
      "text/plain": [
       "<Figure size 432x288 with 1 Axes>"
      ]
     },
     "metadata": {
      "needs_background": "light"
     },
     "output_type": "display_data"
    }
   ],
   "source": [
    "# plot the results\n",
    "plt.plot(regrets.mean(1).T)  \n",
    "plt.legend(['Exploitation', 'Boltzmann', 'Thompson', 'UCB'], frameon=False)\n",
    "plt.xlabel('Trial')\n",
    "plt.ylabel('Regret')\n",
    "plt.xlim(0, 100)\n",
    "plt.ylim(-0.05, 2.0)"
   ]
  },
  {
   "cell_type": "markdown",
   "metadata": {},
   "source": [
    "## Exercise 5: Fit parameters to data"
   ]
  },
  {
   "cell_type": "markdown",
   "metadata": {},
   "source": [
    "We want to fit the parameters of the following probit regression model to our data:\n",
    "\n",
    "$$p(A_t = 0 | \\mathbf{w}) = {\\phi} \\left(w_1 \\left(m_0 - m_1 \\right) {+ w_2 \\left(\\dfrac{m_0 - m_1}{\\sqrt{s_0^2 + s_1^2}} \\right)} {+ w_3 \\left(s_0 - s_1 \\right)}\\right)$$\n",
    "\n",
    "using maximum likelihood estimate with the following objective:\n",
    "\n",
    "$$\\mathbf{w}^* = \\text{arg}\\max_{\\mathbf{w}}  \\sum_{k, t} \\log p(A_{t, k} = a_{t, k} | \\mathbf{w})$$"
   ]
  },
  {
   "cell_type": "code",
   "execution_count": 12,
   "metadata": {},
   "outputs": [],
   "source": [
    "import pandas as pd\n",
    "\n",
    "def parse_data():\n",
    "    \"\"\"\n",
    "        Parse data into numpy arrays.\n",
    "        \n",
    "        Returns:\n",
    "            X (ndarray): numpy array of size (num_partcipants x num_tasks x num_trials x 3) containing features.\n",
    "            y (ndarray): numpy array of size (num_partcipants x num_tasks x num_trials x 1) containing choices.\n",
    "        \"\"\"\n",
    "    \n",
    "    df = pd.read_csv('data/data2.csv')\n",
    "\n",
    "    X = np.zeros((df.subject.max(), df.block.max(), df.trial.max(), 3))\n",
    "    y = np.zeros((df.subject.max(), df.block.max(), df.trial.max(), 1))\n",
    "\n",
    "    for subject in range(df.subject.max()):\n",
    "        for block in range(df.block.max()):\n",
    "\n",
    "            # initialize agent\n",
    "            agent = BayesianLearner(mean_var=100, reward_var=10, num_actions=2)\n",
    "\n",
    "            for trial in range(df.trial.max()):\n",
    "\n",
    "                # create input features\n",
    "                X[subject, block, trial, 0] = agent.prior_mean[0] - agent.prior_mean[1]\n",
    "                X[subject, block, trial, 1] = X[subject, block, trial, 0] / math.sqrt(agent.prior_var[0] + agent.prior_var[1])\n",
    "                X[subject, block, trial, 2] = np.sqrt(agent.prior_var)[0] - np.sqrt(agent.prior_var)[1]\n",
    "\n",
    "                # action taken by participant\n",
    "                action = int(df[(df['subject'] == subject + 1) & (df['block'] == block + 1) & (df['trial'] == trial + 1)].choice - 1)\n",
    "                y[subject, block, trial, 0] = (action == 0)\n",
    "\n",
    "                # get reward received and update beliefs\n",
    "                reward = float(df[(df['subject'] == subject + 1) & (df['block'] == block + 1) & (df['trial'] == trial + 1)].reward)\n",
    "                agent.update(action, reward)\n",
    "    return X, y"
   ]
  },
  {
   "cell_type": "code",
   "execution_count": 13,
   "metadata": {},
   "outputs": [],
   "source": [
    "from scipy.optimize import minimize\n",
    "\n",
    "def phi(xs):\n",
    "    \"\"\"\n",
    "        Args:\n",
    "            xs (ndarray): numpy array of any size.\n",
    "\n",
    "        Returns:\n",
    "            ndarray: numpy array of the same size.\n",
    "        \"\"\"\n",
    "    return np.clip(np.array([(1.0 + math.erf(x / math.sqrt(2.0))) / 2.0 for x in xs]), 1e-10, 1-10e-10)\n",
    "\n",
    "def nll(w, inputs, targets):\n",
    "    \"\"\"\n",
    "        Args:\n",
    "            w (ndarray): numpy array of size (3) containing current parameter estimates.\n",
    "            inputs (ndarray): numpy array of size (num_choices x 3) containing features.\n",
    "            targets (ndarray): numpy array of size (num_choices) containing selected action.\n",
    "\n",
    "        Returns:\n",
    "            float: loss function for the current parameter estimates w.\n",
    "        \"\"\"\n",
    "    probs = phi(inputs @ w[:, None][:, 0])\n",
    "    return -(targets * np.log(probs) + (1-targets) * np.log(1-probs)).sum()\n",
    "\n",
    "X, y = parse_data()\n",
    "params = np.zeros((X.shape[0], X.shape[3]))\n",
    "\n",
    "# loop over participants\n",
    "for subject in range(X.shape[0]):\n",
    "    \n",
    "    # reshape inputs\n",
    "    inputs = X[subject].reshape((200, 3))\n",
    "    targets = y[subject].reshape((200))\n",
    "    \n",
    "    # optimize and store best-fitting regression weights\n",
    "    res = minimize(nll, np.zeros(3), method='BFGS', args=(inputs, targets))\n",
    "    params[subject] = res.x"
   ]
  },
  {
   "cell_type": "code",
   "execution_count": 14,
   "metadata": {},
   "outputs": [
    {
     "data": {
      "image/png": "[encoded data removed]",
      "text/plain": [
       "<Figure size 576x432 with 1 Axes>"
      ]
     },
     "metadata": {
      "needs_background": "light"
     },
     "output_type": "display_data"
    }
   ],
   "source": [
    "# plot the average regression weights\n",
    "plt.rcParams[\"figure.figsize\"] = (8,6)\n",
    "plt.bar(np.arange(3), params.mean(0))\n",
    "plt.xticks(np.arange(3), [r'$\\mathbf{w}_1$',r'$\\mathbf{w}_2$', r'$\\mathbf{w}_3$'])\n",
    "plt.show()"
   ]
  },
  {
   "cell_type": "code",
   "execution_count": 15,
   "metadata": {},
   "outputs": [
    {
     "data": {
      "image/png": "[encoded data removed]",
      "text/plain": [
       "<Figure size 576x432 with 2 Axes>"
      ]
     },
     "metadata": {
      "needs_background": "light"
     },
     "output_type": "display_data"
    }
   ],
   "source": [
    "# create color coding\n",
    "colors = np.ones_like(params)\n",
    "colors[:, 1] = 1 - np.clip((params[:, 1] + 0.5) / (2 + 0.0), 0, 1)\n",
    "colors[:, 2] = 1 - np.clip((params[:, 1] + 0.5) / (2 + 0.0), 0, 1)\n",
    "\n",
    "# plot the individual regression weights\n",
    "plt.scatter(params[:, 0], params[:, 2], color=colors, s=50, edgecolors= \"black\")\n",
    "\n",
    "# create colormap\n",
    "cmap = mpl.colors.LinearSegmentedColormap.from_list('testCmap', ['white', 'red'])\n",
    "sm = plt.cm.ScalarMappable(cmap=cmap)\n",
    "sm.set_clim(vmin=0, vmax=2)\n",
    "\n",
    "plt.xlabel(r'$\\mathbf{w}_1$')\n",
    "plt.ylabel(r'$\\mathbf{w}_3$')\n",
    "plt.colorbar(sm)\n",
    "\n",
    "plt.show()"
   ]
  }
 ],
 "metadata": {
  "kernelspec": {
   "display_name": "Python 3",
   "language": "python",
   "name": "python3"
  },
  "language_info": {
   "codemirror_mode": {
    "name": "ipython",
    "version": 3
   },
   "file_extension": ".py",
   "mimetype": "text/x-python",
   "name": "python",
   "nbconvert_exporter": "python",
   "pygments_lexer": "ipython3",
   "version": "3.8.5"
  }
 },
 "nbformat": 4,
 "nbformat_minor": 5
}
